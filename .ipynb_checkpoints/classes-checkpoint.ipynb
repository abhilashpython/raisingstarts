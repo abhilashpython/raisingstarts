{
 "cells": [
  {
   "cell_type": "code",
   "execution_count": 1,
   "metadata": {
    "collapsed": false
   },
   "outputs": [
    {
     "data": {
      "text/plain": [
       "40"
      ]
     },
     "execution_count": 1,
     "metadata": {},
     "output_type": "execute_result"
    }
   ],
   "source": [
    "def fun1(c,d):\n",
    "    def innser(para):\n",
    "        pass\n",
    "\n",
    "def fun(a,b):\n",
    "    a=20\n",
    "    return a+b\n",
    "fun(10,20)"
   ]
  },
  {
   "cell_type": "code",
   "execution_count": 3,
   "metadata": {
    "collapsed": false
   },
   "outputs": [
    {
     "name": "stdout",
     "output_type": "stream",
     "text": [
      "30\n",
      "500\n"
     ]
    }
   ],
   "source": [
    "class Class_Name:\n",
    "    a=10\n",
    "    b=20\n",
    "    def sum1(self):\n",
    "        return self.a+self.b\n",
    "o1=Class_Name()\n",
    "print o1.sum1()\n",
    "o2=Class_Name()\n",
    "o2.a=200\n",
    "o2.b=300\n",
    "print o2.sum1()"
   ]
  },
  {
   "cell_type": "code",
   "execution_count": 5,
   "metadata": {
    "collapsed": false
   },
   "outputs": [
    {
     "name": "stdout",
     "output_type": "stream",
     "text": [
      "Constructor\n"
     ]
    }
   ],
   "source": [
    "class Class_Name:\n",
    "    a=10\n",
    "    b=20\n",
    "    def __init__(self):\n",
    "        print \"Constructor\"\n",
    "    def sum1(self):\n",
    "        return self.a+self.b\n",
    "o1=Class_Name()"
   ]
  },
  {
   "cell_type": "code",
   "execution_count": 6,
   "metadata": {
    "collapsed": false
   },
   "outputs": [
    {
     "name": "stdout",
     "output_type": "stream",
     "text": [
      "Constructor\n"
     ]
    },
    {
     "ename": "TypeError",
     "evalue": "__init__() should return None",
     "output_type": "error",
     "traceback": [
      "\u001b[1;31m---------------------------------------------------------------------------\u001b[0m",
      "\u001b[1;31mTypeError\u001b[0m                                 Traceback (most recent call last)",
      "\u001b[1;32m<ipython-input-6-6839d92066a8>\u001b[0m in \u001b[0;36m<module>\u001b[1;34m()\u001b[0m\n\u001b[0;32m      7\u001b[0m     \u001b[1;32mdef\u001b[0m \u001b[0msum1\u001b[0m\u001b[1;33m(\u001b[0m\u001b[0mself\u001b[0m\u001b[1;33m)\u001b[0m\u001b[1;33m:\u001b[0m\u001b[1;33m\u001b[0m\u001b[0m\n\u001b[0;32m      8\u001b[0m         \u001b[1;32mreturn\u001b[0m \u001b[0mself\u001b[0m\u001b[1;33m.\u001b[0m\u001b[0ma\u001b[0m\u001b[1;33m+\u001b[0m\u001b[0mself\u001b[0m\u001b[1;33m.\u001b[0m\u001b[0mb\u001b[0m\u001b[1;33m\u001b[0m\u001b[0m\n\u001b[1;32m----> 9\u001b[1;33m \u001b[0mo1\u001b[0m\u001b[1;33m=\u001b[0m\u001b[0mClass_Name\u001b[0m\u001b[1;33m(\u001b[0m\u001b[1;33m)\u001b[0m\u001b[1;33m\u001b[0m\u001b[0m\n\u001b[0m",
      "\u001b[1;31mTypeError\u001b[0m: __init__() should return None"
     ]
    }
   ],
   "source": [
    "class Class_Name:\n",
    "    a=10\n",
    "    b=20\n",
    "    def __init__(self):\n",
    "        print \"Constructor\"\n",
    "        return \"dsfsdfsd\"\n",
    "    def sum1(self):\n",
    "        return self.a+self.b\n",
    "o1=Class_Name()"
   ]
  },
  {
   "cell_type": "code",
   "execution_count": 8,
   "metadata": {
    "collapsed": false
   },
   "outputs": [
    {
     "name": "stdout",
     "output_type": "stream",
     "text": [
      "300\n"
     ]
    }
   ],
   "source": [
    "class Class_Name:\n",
    "    def __init__(self,a1,b1):\n",
    "        self.a=a1\n",
    "        self.b=b1\n",
    "    def sum1(self):\n",
    "        return self.a+self.b\n",
    "o1=Class_Name(100,200)\n",
    "print o1.sum1()"
   ]
  },
  {
   "cell_type": "code",
   "execution_count": 10,
   "metadata": {
    "collapsed": false
   },
   "outputs": [
    {
     "name": "stdout",
     "output_type": "stream",
     "text": [
      "300\n",
      "3000\n"
     ]
    }
   ],
   "source": [
    "class Class_Name:\n",
    "    def __init__(self,a1,b1):\n",
    "        self.a=a1\n",
    "        self.b=b1\n",
    "    def sum1(self):\n",
    "        return self.a+self.b\n",
    "o1=Class_Name(100,200)\n",
    "print o1.sum1()\n",
    "o2=Class_Name(1000,2000)\n",
    "print o2.sum1()"
   ]
  },
  {
   "cell_type": "code",
   "execution_count": 12,
   "metadata": {
    "collapsed": false
   },
   "outputs": [
    {
     "name": "stdout",
     "output_type": "stream",
     "text": [
      "600\n"
     ]
    },
    {
     "ename": "AttributeError",
     "evalue": "Class_Name instance has no attribute '__c'",
     "output_type": "error",
     "traceback": [
      "\u001b[1;31m---------------------------------------------------------------------------\u001b[0m",
      "\u001b[1;31mAttributeError\u001b[0m                            Traceback (most recent call last)",
      "\u001b[1;32m<ipython-input-12-d20ce8b2478a>\u001b[0m in \u001b[0;36m<module>\u001b[1;34m()\u001b[0m\n\u001b[0;32m      8\u001b[0m \u001b[0mo1\u001b[0m\u001b[1;33m=\u001b[0m\u001b[0mClass_Name\u001b[0m\u001b[1;33m(\u001b[0m\u001b[1;36m100\u001b[0m\u001b[1;33m,\u001b[0m\u001b[1;36m200\u001b[0m\u001b[1;33m)\u001b[0m\u001b[1;33m\u001b[0m\u001b[0m\n\u001b[0;32m      9\u001b[0m \u001b[1;32mprint\u001b[0m \u001b[0mo1\u001b[0m\u001b[1;33m.\u001b[0m\u001b[0msum1\u001b[0m\u001b[1;33m(\u001b[0m\u001b[1;33m)\u001b[0m\u001b[1;33m\u001b[0m\u001b[0m\n\u001b[1;32m---> 10\u001b[1;33m \u001b[1;32mprint\u001b[0m \u001b[0mo1\u001b[0m\u001b[1;33m.\u001b[0m\u001b[0m__c\u001b[0m\u001b[1;33m\u001b[0m\u001b[0m\n\u001b[0m\u001b[0;32m     11\u001b[0m \u001b[0mo2\u001b[0m\u001b[1;33m=\u001b[0m\u001b[0mClass_Name\u001b[0m\u001b[1;33m(\u001b[0m\u001b[1;36m1000\u001b[0m\u001b[1;33m,\u001b[0m\u001b[1;36m2000\u001b[0m\u001b[1;33m)\u001b[0m\u001b[1;33m\u001b[0m\u001b[0m\n\u001b[0;32m     12\u001b[0m \u001b[1;32mprint\u001b[0m \u001b[0mo2\u001b[0m\u001b[1;33m.\u001b[0m\u001b[0msum1\u001b[0m\u001b[1;33m(\u001b[0m\u001b[1;33m)\u001b[0m\u001b[1;33m\u001b[0m\u001b[0m\n",
      "\u001b[1;31mAttributeError\u001b[0m: Class_Name instance has no attribute '__c'"
     ]
    }
   ],
   "source": [
    "class Class_Name:\n",
    "    def __init__(self,a1,b1):\n",
    "        self.a=a1\n",
    "        self.b=b1\n",
    "        self.__c=b1+100\n",
    "    def sum1(self):\n",
    "        return self.a+self.b+self.__c\n",
    "o1=Class_Name(100,200)\n",
    "print o1.sum1()\n",
    "print o1.__c\n",
    "o2=Class_Name(1000,2000)\n",
    "print o2.sum1()"
   ]
  },
  {
   "cell_type": "code",
   "execution_count": 14,
   "metadata": {
    "collapsed": false
   },
   "outputs": [
    {
     "name": "stdout",
     "output_type": "stream",
     "text": [
      "30\n"
     ]
    }
   ],
   "source": [
    "class c1:\n",
    "    a=10\n",
    "class c2:\n",
    "    b=20\n",
    "    def sum1(self):\n",
    "        o1=c1()\n",
    "        return self.b+o1.a\n",
    "o2=c2()\n",
    "print o2.sum1()"
   ]
  },
  {
   "cell_type": "code",
   "execution_count": 15,
   "metadata": {
    "collapsed": false
   },
   "outputs": [
    {
     "name": "stdout",
     "output_type": "stream",
     "text": [
      "30\n"
     ]
    }
   ],
   "source": [
    "class c1:\n",
    "    a=10\n",
    "class c2(c1):\n",
    "    b=20\n",
    "    def sum1(self):\n",
    "        return self.b+self.a\n",
    "o2=c2()\n",
    "print o2.sum1()"
   ]
  },
  {
   "cell_type": "code",
   "execution_count": 16,
   "metadata": {
    "collapsed": false
   },
   "outputs": [
    {
     "name": "stdout",
     "output_type": "stream",
     "text": [
      "120\n"
     ]
    }
   ],
   "source": [
    "class c1:\n",
    "    a=10\n",
    "class c2(c1):\n",
    "    b=20\n",
    "    a=100\n",
    "    def sum1(self):\n",
    "        return self.b+self.a\n",
    "o2=c2()\n",
    "print o2.sum1()"
   ]
  },
  {
   "cell_type": "code",
   "execution_count": 18,
   "metadata": {
    "collapsed": false
   },
   "outputs": [
    {
     "name": "stdout",
     "output_type": "stream",
     "text": [
      "60\n"
     ]
    }
   ],
   "source": [
    "class c1:\n",
    "    a=10\n",
    "class c2(c1):\n",
    "    b=20\n",
    "    \n",
    "class c3(c2):\n",
    "    c=30\n",
    "    def sum1(self):\n",
    "        return self.b+self.a+self.c\n",
    "o2=c3()\n",
    "print o2.sum1()"
   ]
  },
  {
   "cell_type": "code",
   "execution_count": 3,
   "metadata": {
    "collapsed": false
   },
   "outputs": [
    {
     "name": "stdout",
     "output_type": "stream",
     "text": [
      "parent contructor\n",
      "Child constructor\n"
     ]
    }
   ],
   "source": [
    "class c1:\n",
    "    def __init__(self):\n",
    "        print \"parent contructor\"\n",
    "class c2(c1):\n",
    "    def __init__(self):\n",
    "        c1.__init__(self)\n",
    "        print \"Child constructor\"\n",
    "o2=c2()"
   ]
  },
  {
   "cell_type": "code",
   "execution_count": 4,
   "metadata": {
    "collapsed": false
   },
   "outputs": [
    {
     "data": {
      "text/plain": [
       "60"
      ]
     },
     "execution_count": 4,
     "metadata": {},
     "output_type": "execute_result"
    }
   ],
   "source": [
    "# multiple inheritance\n",
    "class c1:\n",
    "    a=10\n",
    "class c2:\n",
    "    b=20\n",
    "class c3(c1,c2):\n",
    "    c=30\n",
    "    def sum1(self):\n",
    "        return self.a+self.b+self.c\n",
    "o3=c3()\n",
    "o3.sum1()"
   ]
  },
  {
   "cell_type": "code",
   "execution_count": 5,
   "metadata": {
    "collapsed": false
   },
   "outputs": [
    {
     "data": {
      "text/plain": [
       "60"
      ]
     },
     "execution_count": 5,
     "metadata": {},
     "output_type": "execute_result"
    }
   ],
   "source": [
    "# multiple inheritance\n",
    "class c1:\n",
    "    a=10\n",
    "class c2:\n",
    "    a=40\n",
    "    b=20\n",
    "class c3(c1,c2):\n",
    "    c=30\n",
    "    def sum1(self):\n",
    "        return self.a+self.b+self.c\n",
    "o3=c3()\n",
    "o3.sum1()"
   ]
  },
  {
   "cell_type": "code",
   "execution_count": 7,
   "metadata": {
    "collapsed": false
   },
   "outputs": [
    {
     "name": "stdout",
     "output_type": "stream",
     "text": [
      "90\n",
      "600\n"
     ]
    }
   ],
   "source": [
    "# multiple inheritance\n",
    "class c1:\n",
    "    a=10\n",
    "class c2:\n",
    "    a=40\n",
    "    b=20\n",
    "class c3(c2,c1):\n",
    "    c=30\n",
    "    def sum1(self):\n",
    "        return self.a+self.b+self.c\n",
    "o3=c3()\n",
    "print o3.sum1()\n",
    "o4=c3()\n",
    "o4.a=100\n",
    "o4.b=200\n",
    "o4.c=300\n",
    "print o4.sum1()"
   ]
  },
  {
   "cell_type": "code",
   "execution_count": null,
   "metadata": {
    "collapsed": true
   },
   "outputs": [],
   "source": [
    "# method overriding\n",
    "class shape:\n",
    "    def area(self):\n",
    "        return None\n",
    "    def perimeter(self):\n",
    "        return None\n",
    "class square(shape):\n",
    "    def __init__(self,dim):\n",
    "        self.dim1=dim\n",
    "    "
   ]
  }
 ],
 "metadata": {
  "kernelspec": {
   "display_name": "Python 2",
   "language": "python",
   "name": "python2"
  },
  "language_info": {
   "codemirror_mode": {
    "name": "ipython",
    "version": 2
   },
   "file_extension": ".py",
   "mimetype": "text/x-python",
   "name": "python",
   "nbconvert_exporter": "python",
   "pygments_lexer": "ipython2",
   "version": "2.7.11"
  }
 },
 "nbformat": 4,
 "nbformat_minor": 0
}
