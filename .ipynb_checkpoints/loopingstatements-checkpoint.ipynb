{
 "cells": [
  {
   "cell_type": "code",
   "execution_count": null,
   "metadata": {
    "collapsed": true
   },
   "outputs": [],
   "source": [
    "# check whether particular service running or not?\n",
    "# check whether given path is in the os or not?\n",
    "# take a file name from the user check whether that file is ther in your os or not "
   ]
  },
  {
   "cell_type": "code",
   "execution_count": 2,
   "metadata": {
    "collapsed": false
   },
   "outputs": [
    {
     "name": "stdout",
     "output_type": "stream",
     "text": [
      "10\n",
      "11\n",
      "12\n",
      "13\n",
      "14\n",
      "15\n",
      "16\n",
      "17\n",
      "18\n",
      "19\n"
     ]
    }
   ],
   "source": [
    "a=10\n",
    "while a<20:\n",
    "    print a\n",
    "    a=a+1"
   ]
  },
  {
   "cell_type": "code",
   "execution_count": 4,
   "metadata": {
    "collapsed": false
   },
   "outputs": [
    {
     "name": "stdout",
     "output_type": "stream",
     "text": [
      "program started\n",
      "10\n",
      "11\n",
      "12\n",
      "13\n",
      "14\n",
      "15\n",
      "other statements in program\n",
      "program ended\n"
     ]
    }
   ],
   "source": [
    "print \"program started\"\n",
    "a=10\n",
    "while a<20:\n",
    "    print a\n",
    "    if a==15:\n",
    "        break\n",
    "    a=a+1\n",
    "print \"other statements in program\"\n",
    "print \"program ended\""
   ]
  },
  {
   "cell_type": "code",
   "execution_count": 5,
   "metadata": {
    "collapsed": false
   },
   "outputs": [
    {
     "name": "stdout",
     "output_type": "stream",
     "text": [
      "program started\n",
      "while loop started\n",
      "10\n",
      "other statements in program\n",
      "program ended\n"
     ]
    }
   ],
   "source": [
    "print \"program started\"\n",
    "a=10\n",
    "while a<20:\n",
    "    print \"while loop started\"\n",
    "    print a\n",
    "    a=a+1\n",
    "    break\n",
    "    print \"while loop ended\"\n",
    "print \"other statements in program\"\n",
    "print \"program ended\""
   ]
  },
  {
   "cell_type": "code",
   "execution_count": 6,
   "metadata": {
    "collapsed": false
   },
   "outputs": [
    {
     "name": "stdout",
     "output_type": "stream",
     "text": [
      "program started\n",
      "while loop started\n",
      "10\n",
      "while loop ended\n",
      "while loop started\n",
      "11\n",
      "while loop ended\n",
      "while loop started\n",
      "12\n",
      "while loop ended\n",
      "while loop started\n",
      "13\n",
      "while loop ended\n",
      "while loop started\n",
      "14\n",
      "while loop started\n",
      "15\n",
      "while loop ended\n",
      "while loop started\n",
      "16\n",
      "while loop ended\n",
      "while loop started\n",
      "17\n",
      "while loop ended\n",
      "while loop started\n",
      "18\n",
      "while loop ended\n",
      "while loop started\n",
      "19\n",
      "while loop ended\n",
      "other statements in program\n",
      "program ended\n"
     ]
    }
   ],
   "source": [
    "print \"program started\"\n",
    "a=10\n",
    "while a<20:\n",
    "    print \"while loop started\"\n",
    "    print a\n",
    "    a=a+1\n",
    "    if a==15:\n",
    "        continue\n",
    "    print \"while loop ended\"\n",
    "print \"other statements in program\"\n",
    "print \"program ended\""
   ]
  },
  {
   "cell_type": "code",
   "execution_count": 7,
   "metadata": {
    "collapsed": false
   },
   "outputs": [
    {
     "name": "stdout",
     "output_type": "stream",
     "text": [
      "p\n",
      "y\n",
      "t\n",
      "h\n",
      "o\n",
      "n\n"
     ]
    }
   ],
   "source": [
    "s=\"python\"\n",
    "for char in s:\n",
    "    print char"
   ]
  },
  {
   "cell_type": "code",
   "execution_count": 8,
   "metadata": {
    "collapsed": false
   },
   "outputs": [
    {
     "ename": "TypeError",
     "evalue": "'int' object is not iterable",
     "output_type": "error",
     "traceback": [
      "\u001b[1;31m---------------------------------------------------------------------------\u001b[0m",
      "\u001b[1;31mTypeError\u001b[0m                                 Traceback (most recent call last)",
      "\u001b[1;32m<ipython-input-8-ac4b244ebd2f>\u001b[0m in \u001b[0;36m<module>\u001b[1;34m()\u001b[0m\n\u001b[1;32m----> 1\u001b[1;33m \u001b[1;32mfor\u001b[0m \u001b[0mi\u001b[0m \u001b[1;32min\u001b[0m \u001b[1;36m123\u001b[0m\u001b[1;33m:\u001b[0m\u001b[1;33m\u001b[0m\u001b[0m\n\u001b[0m\u001b[0;32m      2\u001b[0m     \u001b[1;32mprint\u001b[0m \u001b[0mi\u001b[0m\u001b[1;33m\u001b[0m\u001b[0m\n",
      "\u001b[1;31mTypeError\u001b[0m: 'int' object is not iterable"
     ]
    }
   ],
   "source": [
    "for i in 123:\n",
    "    print i"
   ]
  },
  {
   "cell_type": "code",
   "execution_count": 9,
   "metadata": {
    "collapsed": false
   },
   "outputs": [
    {
     "name": "stdout",
     "output_type": "stream",
     "text": [
      "1\n",
      "2\n",
      "3\n"
     ]
    }
   ],
   "source": [
    "for i in str(123):\n",
    "    print i"
   ]
  },
  {
   "cell_type": "code",
   "execution_count": 10,
   "metadata": {
    "collapsed": false
   },
   "outputs": [
    {
     "name": "stdout",
     "output_type": "stream",
     "text": [
      "h\n"
     ]
    }
   ],
   "source": [
    "for i in \"python\":\n",
    "    if i==\"h\":\n",
    "        print i\n",
    "        break"
   ]
  },
  {
   "cell_type": "code",
   "execution_count": 11,
   "metadata": {
    "collapsed": false
   },
   "outputs": [
    {
     "name": "stdout",
     "output_type": "stream",
     "text": [
      "p\n",
      "y\n",
      "t\n",
      "h\n"
     ]
    }
   ],
   "source": [
    "for i in \"python\":\n",
    "    print i\n",
    "    if i==\"h\":\n",
    "        break"
   ]
  },
  {
   "cell_type": "code",
   "execution_count": 14,
   "metadata": {
    "collapsed": false
   },
   "outputs": [
    {
     "name": "stdout",
     "output_type": "stream",
     "text": [
      "17 33\n",
      "Vowel count:17\n",
      " consonent count:33\n"
     ]
    }
   ],
   "source": [
    "# count number of vowels and consonents\n",
    "s=\"python is pure object oriented programing language\"\n",
    "vowel=0\n",
    "consonenet=0\n",
    "for i in s:\n",
    "    if i in \"aeiou\":\n",
    "        vowel = vowel+1\n",
    "    else:\n",
    "        consonenet = consonenet+1\n",
    "print vowel,consonenet\n",
    "print \"Vowel count:{0}\\n consonent count:{1}\".format(vowel,consonenet)"
   ]
  },
  {
   "cell_type": "code",
   "execution_count": 15,
   "metadata": {
    "collapsed": true
   },
   "outputs": [],
   "source": [
    "#find the start position of the largest block of repeated characters in a given string"
   ]
  },
  {
   "cell_type": "code",
   "execution_count": 16,
   "metadata": {
    "collapsed": false
   },
   "outputs": [
    {
     "name": "stdout",
     "output_type": "stream",
     "text": [
      "17 27\n",
      "Vowel count:17\n",
      " consonent count:27\n"
     ]
    }
   ],
   "source": [
    "# count number of vowels and consonents\n",
    "s=\"python is pure object oriented programing language\"\n",
    "vowel=0\n",
    "consonenet=0\n",
    "for i in s:\n",
    "    if not i.isspace():\n",
    "        if i in \"aeiou\":\n",
    "            vowel = vowel+1\n",
    "        else:\n",
    "            consonenet = consonenet+1\n",
    "print vowel,consonenet\n",
    "print \"Vowel count:{0}\\n consonent count:{1}\".format(vowel,consonenet)"
   ]
  },
  {
   "cell_type": "code",
   "execution_count": 18,
   "metadata": {
    "collapsed": false
   },
   "outputs": [
    {
     "name": "stdout",
     "output_type": "stream",
     "text": [
      "17 27\n",
      "Vowel count:17\n",
      " consonent count:27\n"
     ]
    }
   ],
   "source": [
    "# count number of vowels and consonents\n",
    "s=\"python is pure object oriented programing language\"\n",
    "vowel=0\n",
    "consonenet=0\n",
    "for i in s:\n",
    "    if i.isalpha():\n",
    "        if i in \"aeiou\":\n",
    "            vowel = vowel+1\n",
    "        else:\n",
    "            consonenet = consonenet+1\n",
    "print vowel,consonenet\n",
    "print \"Vowel count:{0}\\n consonent count:{1}\".format(vowel,consonenet)"
   ]
  },
  {
   "cell_type": "code",
   "execution_count": null,
   "metadata": {
    "collapsed": true
   },
   "outputs": [],
   "source": [
    "a=raw_input(\"Ente a value:\")"
   ]
  }
 ],
 "metadata": {
  "kernelspec": {
   "display_name": "Python 2",
   "language": "python",
   "name": "python2"
  },
  "language_info": {
   "codemirror_mode": {
    "name": "ipython",
    "version": 2
   },
   "file_extension": ".py",
   "mimetype": "text/x-python",
   "name": "python",
   "nbconvert_exporter": "python",
   "pygments_lexer": "ipython2",
   "version": "2.7.11"
  }
 },
 "nbformat": 4,
 "nbformat_minor": 0
}
