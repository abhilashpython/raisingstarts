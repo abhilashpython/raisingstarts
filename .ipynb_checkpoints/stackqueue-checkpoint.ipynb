{
 "cells": [
  {
   "cell_type": "code",
   "execution_count": 1,
   "metadata": {
    "collapsed": false
   },
   "outputs": [
    {
     "name": "stdout",
     "output_type": "stream",
     "text": [
      "[1000, 1, 10, 100]\n"
     ]
    }
   ],
   "source": [
    "stack1=[]\n",
    "stack1.append(1)\n",
    "stack1.append(10)\n",
    "stack1.append(100)\n",
    "stack1.pop()\n",
    "#Queue\n",
    "\n",
    "queu1=[]\n",
    "# add elements at rear side\n",
    "queu1.append(1)\n",
    "queu1.append(10)\n",
    "queu1.append(100)\n",
    "# add elements at front side\n",
    "queu1.insert(0,1000)\n",
    "\n",
    "print queu1"
   ]
  },
  {
   "cell_type": "code",
   "execution_count": null,
   "metadata": {
    "collapsed": true
   },
   "outputs": [],
   "source": []
  }
 ],
 "metadata": {
  "kernelspec": {
   "display_name": "Python 2",
   "language": "python",
   "name": "python2"
  },
  "language_info": {
   "codemirror_mode": {
    "name": "ipython",
    "version": 2
   },
   "file_extension": ".py",
   "mimetype": "text/x-python",
   "name": "python",
   "nbconvert_exporter": "python",
   "pygments_lexer": "ipython2",
   "version": "2.7.11"
  }
 },
 "nbformat": 4,
 "nbformat_minor": 0
}
