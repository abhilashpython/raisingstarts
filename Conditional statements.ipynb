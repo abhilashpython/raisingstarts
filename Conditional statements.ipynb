{
 "cells": [
  {
   "cell_type": "code",
   "execution_count": 1,
   "metadata": {
    "collapsed": false
   },
   "outputs": [
    {
     "name": "stdout",
     "output_type": "stream",
     "text": [
      "Program started\n",
      "if block\n",
      "a is ten\n",
      "other statements in main block\n",
      "Program ended\n"
     ]
    }
   ],
   "source": [
    "'''\n",
    "if condition:\n",
    " statements\n",
    "else:\n",
    " statements\n",
    "    \n",
    "'''\n",
    "print \"Program started\"\n",
    "a=10\n",
    "if a==10:\n",
    "    print \"if block\"\n",
    "    print \"a is ten\"\n",
    "else:\n",
    "    print \"a not equal to ten\"\n",
    "    print \"else block\"\n",
    "print \"other statements in main block\"\n",
    "print \"Program ended\""
   ]
  },
  {
   "cell_type": "code",
   "execution_count": 2,
   "metadata": {
    "collapsed": false
   },
   "outputs": [
    {
     "name": "stdout",
     "output_type": "stream",
     "text": [
      "Program started\n",
      "if block\n",
      "a is ten\n",
      "other statements in main block\n",
      "Program ended\n"
     ]
    }
   ],
   "source": [
    "print \"Program started\"\n",
    "a=10\n",
    "if a==10:\n",
    "    print \"if block\"\n",
    "    print \"a is ten\"\n",
    "else:\n",
    " print \"a not equal to ten\"\n",
    " print \"else block\"\n",
    "print \"other statements in main block\"\n",
    "print \"Program ended\""
   ]
  },
  {
   "cell_type": "code",
   "execution_count": 3,
   "metadata": {
    "collapsed": false
   },
   "outputs": [
    {
     "ename": "IndentationError",
     "evalue": "unindent does not match any outer indentation level (<ipython-input-3-672b64f7d5a7>, line 5)",
     "output_type": "error",
     "traceback": [
      "\u001b[1;36m  File \u001b[1;32m\"<ipython-input-3-672b64f7d5a7>\"\u001b[1;36m, line \u001b[1;32m5\u001b[0m\n\u001b[1;33m    print \"a is ten\"\u001b[0m\n\u001b[1;37m                    ^\u001b[0m\n\u001b[1;31mIndentationError\u001b[0m\u001b[1;31m:\u001b[0m unindent does not match any outer indentation level\n"
     ]
    }
   ],
   "source": [
    "print \"Program started\"\n",
    "a=10\n",
    "if a==10:\n",
    "    print \"if block\"\n",
    " print \"a is ten\"\n",
    "else:\n",
    " print \"a not equal to ten\"\n",
    " print \"else block\"\n",
    "print \"other statements in main block\"\n",
    "print \"Program ended\""
   ]
  },
  {
   "cell_type": "code",
   "execution_count": 4,
   "metadata": {
    "collapsed": false
   },
   "outputs": [
    {
     "name": "stdout",
     "output_type": "stream",
     "text": [
      "a > 10\n"
     ]
    }
   ],
   "source": [
    "a=100\n",
    "if a>10:\n",
    "    print \"a > 10\""
   ]
  },
  {
   "cell_type": "code",
   "execution_count": 5,
   "metadata": {
    "collapsed": false
   },
   "outputs": [
    {
     "ename": "IndentationError",
     "evalue": "expected an indented block (<ipython-input-5-bce8f861bf1c>, line 4)",
     "output_type": "error",
     "traceback": [
      "\u001b[1;36m  File \u001b[1;32m\"<ipython-input-5-bce8f861bf1c>\"\u001b[1;36m, line \u001b[1;32m4\u001b[0m\n\u001b[1;33m    else:\u001b[0m\n\u001b[1;37m         ^\u001b[0m\n\u001b[1;31mIndentationError\u001b[0m\u001b[1;31m:\u001b[0m expected an indented block\n"
     ]
    }
   ],
   "source": [
    "a=100\n",
    "if a>10:\n",
    "    print \"a > 10\"\n",
    "else:"
   ]
  },
  {
   "cell_type": "code",
   "execution_count": 6,
   "metadata": {
    "collapsed": false
   },
   "outputs": [
    {
     "name": "stdout",
     "output_type": "stream",
     "text": [
      "a > 10\n"
     ]
    }
   ],
   "source": [
    "a=100\n",
    "if a>10:\n",
    "    print \"a > 10\"\n",
    "else:\n",
    "    pass"
   ]
  },
  {
   "cell_type": "code",
   "execution_count": 7,
   "metadata": {
    "collapsed": false
   },
   "outputs": [
    {
     "name": "stdout",
     "output_type": "stream",
     "text": [
      "Enter an age: 24\n",
      "Eligible for marriage in india\n"
     ]
    }
   ],
   "source": [
    "'''\n",
    "check whether given age is sufficient to do maariage in india\n",
    "age limit :22\n",
    "'''\n",
    "# take tha age from the user check whether he is ready to marriage in india\n",
    "age=raw_input(\"Enter an age: \")\n",
    "if age>='22':\n",
    "    print \"Eligible for marriage in india\"\n",
    "else:\n",
    "    print \"Not eligible for marriage\""
   ]
  },
  {
   "cell_type": "code",
   "execution_count": null,
   "metadata": {
    "collapsed": false
   },
   "outputs": [],
   "source": [
    "'''\n",
    "check whether given age is sufficient to do maariage in india\n",
    "age limit :22\n",
    "'''\n",
    "# take tha age from the user check whether he is ready to marriage in india\n",
    "age=raw_input(\"Enter an age: \")\n",
    "if age>='22':\n",
    "    print \"Eligible for marriage in india\"\n",
    "else:\n",
    "    print \"Not eligible for marriage\"\n"
   ]
  },
  {
   "cell_type": "code",
   "execution_count": 1,
   "metadata": {
    "collapsed": true
   },
   "outputs": [],
   "source": [
    "# check given number is even number or not\n",
    "# check given number is prime or not\n",
    "# check given string is there in actual string or not\n",
    "# take a two object from the user, check whether those are going to store as single object or two objects\n"
   ]
  },
  {
   "cell_type": "code",
   "execution_count": 3,
   "metadata": {
    "collapsed": false
   },
   "outputs": [
    {
     "name": "stdout",
     "output_type": "stream",
     "text": [
      "\t1.android\n",
      "\t2.windows\n",
      "\t3.linux\n",
      "Emter an option2\n",
      "Selected windows os\n"
     ]
    }
   ],
   "source": [
    "'''    \n",
    "    1.android\n",
    "    2.windows\n",
    "    3.linux\n",
    "    '''\n",
    "print \"\\t1.android\\n\\t2.windows\\n\\t3.linux\"\n",
    "flag= raw_input(\"Emter an option\")\n",
    "if flag==\"1\":\n",
    "    print \"Selected android os\"\n",
    "if flag==\"2\":\n",
    "    print \"Selected windows os\"\n",
    "if flag==\"3\":\n",
    "    print \"Selected linux os\""
   ]
  },
  {
   "cell_type": "code",
   "execution_count": 5,
   "metadata": {
    "collapsed": false
   },
   "outputs": [
    {
     "name": "stdout",
     "output_type": "stream",
     "text": [
      "\t1.android\n",
      "\t2.windows\n",
      "\t3.linux\n",
      "Emter an option4\n"
     ]
    }
   ],
   "source": [
    "'''    \n",
    "    1.android\n",
    "    2.windows\n",
    "    3.linux\n",
    "    '''\n",
    "print \"\\t1.android\\n\\t2.windows\\n\\t3.linux\"\n",
    "flag= raw_input(\"Emter an option\")\n",
    "if flag==\"1\":\n",
    "    print \"Selected android os\"\n",
    "if flag==\"2\":\n",
    "    print \"Selected windows os\"\n",
    "if flag==\"3\":\n",
    "    print \"Selected linux os\""
   ]
  },
  {
   "cell_type": "code",
   "execution_count": 7,
   "metadata": {
    "collapsed": false
   },
   "outputs": [
    {
     "name": "stdout",
     "output_type": "stream",
     "text": [
      "program started\n",
      "\t1.android\n",
      "\t2.windows\n",
      "\t3.linux\n",
      "Emter an option1\n",
      "Selected android os\n",
      "Invalid option\n",
      "other statements in main block\n",
      "End of the program\n"
     ]
    }
   ],
   "source": [
    "'''    \n",
    "    1.android\n",
    "    2.windows\n",
    "    3.linux\n",
    "    '''\n",
    "print \"program started\"\n",
    "print \"\\t1.android\\n\\t2.windows\\n\\t3.linux\"\n",
    "flag= raw_input(\"Emter an option\")\n",
    "if flag==\"1\":\n",
    "    print \"Selected android os\"\n",
    "if flag==\"2\":\n",
    "    print \"Selected windows os\"\n",
    "if flag==\"3\":\n",
    "    print \"Selected linux os\"\n",
    "else:\n",
    "    print \"Invalid option\"\n",
    "print \"other statements in main block\"\n",
    "print \"End of the program\""
   ]
  },
  {
   "cell_type": "code",
   "execution_count": 8,
   "metadata": {
    "collapsed": false
   },
   "outputs": [
    {
     "name": "stdout",
     "output_type": "stream",
     "text": [
      "program started\n",
      "\t1.android\n",
      "\t2.windows\n",
      "\t3.linux\n",
      "Emter an option5\n",
      "Invalid option\n",
      "other statements in main block\n",
      "End of the program\n"
     ]
    }
   ],
   "source": [
    "'''    \n",
    "    1.android\n",
    "    2.windows\n",
    "    3.linux\n",
    "    '''\n",
    "print \"program started\"\n",
    "print \"\\t1.android\\n\\t2.windows\\n\\t3.linux\"\n",
    "flag= raw_input(\"Emter an option\")\n",
    "if flag==\"1\":\n",
    "    print \"Selected android os\"\n",
    "elif flag==\"2\":\n",
    "    print \"Selected windows os\"\n",
    "elif flag==\"3\":\n",
    "    print \"Selected linux os\"\n",
    "else:\n",
    "    print \"Invalid option\"\n",
    "print \"other statements in main block\"\n",
    "print \"End of the program\""
   ]
  },
  {
   "cell_type": "code",
   "execution_count": 9,
   "metadata": {
    "collapsed": true
   },
   "outputs": [],
   "source": [
    "a=0"
   ]
  },
  {
   "cell_type": "code",
   "execution_count": 10,
   "metadata": {
    "collapsed": false
   },
   "outputs": [
    {
     "data": {
      "text/plain": [
       "True"
      ]
     },
     "execution_count": 10,
     "metadata": {},
     "output_type": "execute_result"
    }
   ],
   "source": [
    "a==0"
   ]
  },
  {
   "cell_type": "code",
   "execution_count": 11,
   "metadata": {
    "collapsed": false
   },
   "outputs": [
    {
     "data": {
      "text/plain": [
       "True"
      ]
     },
     "execution_count": 11,
     "metadata": {},
     "output_type": "execute_result"
    }
   ],
   "source": [
    "bool(a==0)"
   ]
  },
  {
   "cell_type": "code",
   "execution_count": 12,
   "metadata": {
    "collapsed": false
   },
   "outputs": [
    {
     "data": {
      "text/plain": [
       "False"
      ]
     },
     "execution_count": 12,
     "metadata": {},
     "output_type": "execute_result"
    }
   ],
   "source": [
    "bool(a==0 and a==1)"
   ]
  },
  {
   "cell_type": "code",
   "execution_count": 14,
   "metadata": {
    "collapsed": false
   },
   "outputs": [
    {
     "data": {
      "text/plain": [
       "True"
      ]
     },
     "execution_count": 14,
     "metadata": {},
     "output_type": "execute_result"
    }
   ],
   "source": [
    "bool(a==0 or a==1)"
   ]
  },
  {
   "cell_type": "code",
   "execution_count": 15,
   "metadata": {
    "collapsed": false
   },
   "outputs": [
    {
     "data": {
      "text/plain": [
       "False"
      ]
     },
     "execution_count": 15,
     "metadata": {},
     "output_type": "execute_result"
    }
   ],
   "source": [
    "bool(a>10)"
   ]
  },
  {
   "cell_type": "code",
   "execution_count": 16,
   "metadata": {
    "collapsed": false
   },
   "outputs": [
    {
     "data": {
      "text/plain": [
       "True"
      ]
     },
     "execution_count": 16,
     "metadata": {},
     "output_type": "execute_result"
    }
   ],
   "source": [
    "bool(1)"
   ]
  },
  {
   "cell_type": "code",
   "execution_count": 17,
   "metadata": {
    "collapsed": false
   },
   "outputs": [
    {
     "data": {
      "text/plain": [
       "False"
      ]
     },
     "execution_count": 17,
     "metadata": {},
     "output_type": "execute_result"
    }
   ],
   "source": [
    "bool(0)"
   ]
  },
  {
   "cell_type": "code",
   "execution_count": 18,
   "metadata": {
    "collapsed": false
   },
   "outputs": [
    {
     "data": {
      "text/plain": [
       "True"
      ]
     },
     "execution_count": 18,
     "metadata": {},
     "output_type": "execute_result"
    }
   ],
   "source": [
    "bool(10)"
   ]
  },
  {
   "cell_type": "code",
   "execution_count": 19,
   "metadata": {
    "collapsed": false
   },
   "outputs": [
    {
     "data": {
      "text/plain": [
       "True"
      ]
     },
     "execution_count": 19,
     "metadata": {},
     "output_type": "execute_result"
    }
   ],
   "source": [
    "bool(-1)"
   ]
  },
  {
   "cell_type": "code",
   "execution_count": 20,
   "metadata": {
    "collapsed": false
   },
   "outputs": [
    {
     "data": {
      "text/plain": [
       "True"
      ]
     },
     "execution_count": 20,
     "metadata": {},
     "output_type": "execute_result"
    }
   ],
   "source": [
    "bool(\"python\")"
   ]
  },
  {
   "cell_type": "code",
   "execution_count": 21,
   "metadata": {
    "collapsed": false
   },
   "outputs": [
    {
     "data": {
      "text/plain": [
       "False"
      ]
     },
     "execution_count": 21,
     "metadata": {},
     "output_type": "execute_result"
    }
   ],
   "source": [
    "bool(\"\")"
   ]
  },
  {
   "cell_type": "code",
   "execution_count": 22,
   "metadata": {
    "collapsed": false
   },
   "outputs": [
    {
     "data": {
      "text/plain": [
       "False"
      ]
     },
     "execution_count": 22,
     "metadata": {},
     "output_type": "execute_result"
    }
   ],
   "source": [
    "bool(None)"
   ]
  },
  {
   "cell_type": "code",
   "execution_count": 23,
   "metadata": {
    "collapsed": false
   },
   "outputs": [
    {
     "name": "stdout",
     "output_type": "stream",
     "text": [
      "program started\n",
      "0\n",
      "1\n",
      "2\n",
      "3\n",
      "4\n",
      "5\n",
      "6\n",
      "7\n",
      "8\n",
      "9\n",
      "Other statements in main block\n",
      "End of the program\n"
     ]
    }
   ],
   "source": [
    "print \"program started\"\n",
    "a=0\n",
    "while a<10:\n",
    "    print a\n",
    "    a=a+1\n",
    "print \"Other statements in main block\"\n",
    "print \"End of the program\""
   ]
  },
  {
   "cell_type": "code",
   "execution_count": null,
   "metadata": {
    "collapsed": true
   },
   "outputs": [],
   "source": []
  }
 ],
 "metadata": {
  "kernelspec": {
   "display_name": "Python 2",
   "language": "python",
   "name": "python2"
  },
  "language_info": {
   "codemirror_mode": {
    "name": "ipython",
    "version": 2
   },
   "file_extension": ".py",
   "mimetype": "text/x-python",
   "name": "python",
   "nbconvert_exporter": "python",
   "pygments_lexer": "ipython2",
   "version": "2.7.11"
  }
 },
 "nbformat": 4,
 "nbformat_minor": 0
}
